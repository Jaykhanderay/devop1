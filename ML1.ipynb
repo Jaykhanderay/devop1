{
  "nbformat": 4,
  "nbformat_minor": 0,
  "metadata": {
    "colab": {
      "provenance": [],
      "authorship_tag": "ABX9TyMKz/bjBvXULtzSnszyjkTh",
      "include_colab_link": true
    },
    "kernelspec": {
      "name": "python3",
      "display_name": "Python 3"
    },
    "language_info": {
      "name": "python"
    }
  },
  "cells": [
    {
      "cell_type": "markdown",
      "metadata": {
        "id": "view-in-github",
        "colab_type": "text"
      },
      "source": [
        "<a href=\"https://colab.research.google.com/github/elliots234/devop1/blob/master/ML1.ipynb\" target=\"_parent\"><img src=\"https://colab.research.google.com/assets/colab-badge.svg\" alt=\"Open In Colab\"/></a>"
      ]
    },
    {
      "cell_type": "code",
      "execution_count": 5,
      "metadata": {
        "colab": {
          "base_uri": "https://localhost:8080/"
        },
        "id": "NcQtH-b2DieF",
        "outputId": "a26508a9-47a3-4b5a-ebce-23e3af169ceb"
      },
      "outputs": [
        {
          "output_type": "stream",
          "name": "stdout",
          "text": [
            "AND(0, 1) = 0\n",
            "AND(1, 1) = 1\n",
            "AND(0, 0) = 0\n",
            "AND(1, 0) = 0\n"
          ]
        }
      ],
      "source": [
        "import numpy as np\n",
        "def unitStep(v):\n",
        "    if v>=0:\n",
        "        return 1\n",
        "    else:\n",
        "        return 0\n",
        "def perceptronModel(x,w,b):\n",
        "    v = np.dot(w,x) + b\n",
        "    y=unitStep(v)\n",
        "    return y\n",
        "def AND_logicFunction(x):\n",
        "    w=np.array([1,1])\n",
        "    b = -1.5\n",
        "    return perceptronModel(x,w,b)\n",
        "test1 = np.array([0,1])\n",
        "test2 = np.array([1,1])\n",
        "test3 = np.array([0,0])\n",
        "test4 = np.array([1,0])\n",
        "\n",
        "print(\"AND({}, {}) = {}\".format(0, 1, AND_logicFunction(test1)))\n",
        "print(\"AND({}, {}) = {}\".format(1, 1, AND_logicFunction(test2)))\n",
        "print(\"AND({}, {}) = {}\".format(0, 0, AND_logicFunction(test3)))\n",
        "print(\"AND({}, {}) = {}\".format(1, 0, AND_logicFunction(test4)))"
      ]
    }
  ]
}